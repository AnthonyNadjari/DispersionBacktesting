{
 "cells": [
  {
   "cell_type": "code",
   "execution_count": 350,
   "metadata": {},
   "outputs": [],
   "source": [
    "import os\n",
    "import math\n",
    "import numpy as np\n",
    "import pandas as pd\n",
    "import matplotlib.pyplot as plt\n",
    "os.chdir(\"C:/Users/x01382250/Documents/Backtesteur Anthony\")"
   ]
  },
  {
   "cell_type": "markdown",
   "metadata": {},
   "source": [
    "** Import the data **"
   ]
  },
  {
   "cell_type": "code",
   "execution_count": 351,
   "metadata": {},
   "outputs": [],
   "source": [
    "df_data = pd.read_excel(\"Backtester - Dispersion.xlsm\", sheet_name = \"Data\", skiprows = 1, index_col= None).dropna(axis=1, how=\"all\")\n",
    "df_control = pd.read_excel(\"Backtester - Dispersion.xlsm\",skiprows=6,sheet_name = \"Control\", usecols= \"G,I,K,M,O,Q,S,U\")\n",
    "\n",
    "data_index = df_data.iloc[:,[1]].set_index(np.array(df_data.iloc[:,0]))\n",
    "data_index = data_index.loc[data_index.index.notnull()]\n",
    "N=df_control.iloc[2,3]\n",
    "strike=np.array(df_control.iloc[2:,4])\n",
    "start_date = df_control.iloc[2,6]\n",
    "strike_index = df_control.iloc[2,5]\n",
    "weights = np.array(df_control.iloc[1:,1].dropna(axis = 0))"
   ]
  },
  {
   "cell_type": "markdown",
   "metadata": {},
   "source": [
    "** Create a dictionary with tickers and their weights (alphabetical order) **"
   ]
  },
  {
   "cell_type": "code",
   "execution_count": 352,
   "metadata": {
    "scrolled": true
   },
   "outputs": [],
   "source": [
    "weights = np.array(df_control.iloc[1:,1].dropna(axis = 0))\n",
    "tickers_name =  np.array(df_control.iloc[1:,0].dropna(axis = 0))\n",
    "dico={}\n",
    "for key,weight in zip (tickers_name, weights):\n",
    "    dico[key]=weight\n",
    "dic_weights={}\n",
    "dic_weights = {dico[key] for key in sorted(dico)}\n",
    "sorted_dict = {key: value for key, value in sorted(dico.items())}\n",
    "weights = np.array(list(sorted_dict.values()))"
   ]
  },
  {
   "cell_type": "markdown",
   "metadata": {},
   "source": [
    "#### We create a class \"Vol Swap\" containing all the data\n",
    "* `__init__` : loads the parameters\n",
    "* `price vectors` : \n",
    "    * from the data vector, we compute a vector containing all the backtest values from start date to today.\n",
    "    * compute the price; for each stock, it is the following payoff:\n",
    "    \n",
    "   <center> $P = FRV \\wedge 2.5K - K$     &nbsp; where&nbsp;&nbsp;$FRV=\\sqrt{\\frac{252}{N}\\sum_{t=1}^{N}{ln(\\frac{S_t}{S_{t-1}})}^2}$  \n",
    "\n"
   ]
  },
  {
   "cell_type": "code",
   "execution_count": 353,
   "metadata": {},
   "outputs": [],
   "source": [
    "class vol_swap:\n",
    "    def __init__(self,N,strike,data):\n",
    "        self.N = N\n",
    "        self.K = strike\n",
    "        self.data = data \n",
    "        self.price_vector()\n",
    "    def price_vector(self):\n",
    "        ret  = self.data.pct_change()**2\n",
    "        ret.iloc[:,:1] =np.sqrt((ret.iloc[:,:1]).rolling(N).mean()*252)\n",
    "        ret.iloc[:,:1]=(ret.iloc[:,:1].clip(upper=self.K*2.5)-self.K )*100\n",
    "        self.prices = ret"
   ]
  },
  {
   "cell_type": "markdown",
   "metadata": {},
   "source": [
    "#### Compute the prices for the index and the stocks\n",
    "* initialize the dataframe with the index values\n",
    "* create a `vol_swap` object for each underlying to get the prices\n",
    "* merge the dataframes in order to get all calendar dates\n",
    "* remove the N first rows as they correspond to null backtest ($N_{obs} < N$)"
   ]
  },
  {
   "cell_type": "code",
   "execution_count": 354,
   "metadata": {},
   "outputs": [],
   "source": [
    "def compute_backtest():\n",
    "    backtest = df_data.iloc[:,:2]\n",
    "    backtest=backtest.set_index(np.array(backtest.iloc[:,0])).iloc[:,:1]\n",
    "    for i in range(1,int(len(df_data.columns)/2)):  \n",
    "        data = df_data.iloc[:, [2*i,2*i+1]]\n",
    "        data = data.set_index(np.array(data.iloc[:,0]))\n",
    "        data = data.iloc[:,1:]\n",
    "        swap_stock = vol_swap(N,strike[i-1],data)\n",
    "        swap_stock.prices  = swap_stock.prices[swap_stock.prices.index.notnull()]\n",
    "        if i==1:\n",
    "            backtest= swap_stock.prices.iloc[N:,:]\n",
    "        else :\n",
    "            backtest = pd.merge(backtest, swap_stock.prices.iloc[N:,:], left_index=True, right_index=True)\n",
    "    backtest = backtest.reindex(sorted(backtest.columns), axis=1)\n",
    "    return backtest\n",
    "backtest = compute_backtest()"
   ]
  },
  {
   "cell_type": "markdown",
   "metadata": {},
   "source": [
    "#### Compute the price, and reweight when necessary\n"
   ]
  },
  {
   "cell_type": "markdown",
   "metadata": {},
   "source": [
    "* replace \"NA\" by 0 to ease computations (days where no stock is available)"
   ]
  },
  {
   "cell_type": "code",
   "execution_count": 355,
   "metadata": {},
   "outputs": [],
   "source": [
    "backtest=backtest.fillna(0)"
   ]
  },
  {
   "cell_type": "markdown",
   "metadata": {},
   "source": [
    "* compute the weighted sum of the prices\n"
   ]
  },
  {
   "cell_type": "code",
   "execution_count": 356,
   "metadata": {},
   "outputs": [],
   "source": [
    "backtest[\"weighted_sum\"] = (weights.T*backtest).sum(axis=1)"
   ]
  },
  {
   "cell_type": "markdown",
   "metadata": {},
   "source": [
    "* compute the sum of the weights: if the day is not available, swap does not enter in the computations.\n"
   ]
  },
  {
   "cell_type": "code",
   "execution_count": 357,
   "metadata": {},
   "outputs": [],
   "source": [
    "df_is_na = backtest.iloc[:,:-1]!=0\n",
    "backtest[\"sum_of_weights\"] =(weights.T*df_is_na).sum(axis = 1)"
   ]
  },
  {
   "cell_type": "markdown",
   "metadata": {},
   "source": [
    "* compute the weighted average : arithmetical or geometric\n"
   ]
  },
  {
   "cell_type": "code",
   "execution_count": 358,
   "metadata": {},
   "outputs": [],
   "source": [
    "backtest[\"result_stocks\"] = backtest[\"weighted_sum\"]/backtest[\"sum_of_weights\"]"
   ]
  },
  {
   "cell_type": "markdown",
   "metadata": {},
   "source": [
    "* compute data for the index"
   ]
  },
  {
   "cell_type": "code",
   "execution_count": 359,
   "metadata": {},
   "outputs": [],
   "source": [
    "index_swap = vol_swap(N,strike_index,data_index)\n",
    "backtest =pd.merge(backtest,index_swap.prices.iloc[N:,:],left_index=True,right_index=True) "
   ]
  },
  {
   "cell_type": "markdown",
   "metadata": {},
   "source": [
    "* compute dispersion prices : long stock swaps, short index swap"
   ]
  },
  {
   "cell_type": "code",
   "execution_count": 360,
   "metadata": {},
   "outputs": [],
   "source": [
    "backtest[\"result\"] = backtest[\"result_stocks\"] -  backtest.iloc[:,-1]"
   ]
  },
  {
   "cell_type": "markdown",
   "metadata": {},
   "source": [
    "## We repeat the exact same for a 60 days calendar"
   ]
  },
  {
   "cell_type": "code",
   "execution_count": 361,
   "metadata": {},
   "outputs": [],
   "source": [
    "N=60\n",
    "backtest_60 = compute_backtest()\n",
    "backtest_60=backtest_60.fillna(0)\n",
    "backtest_60[\"weighted_sum\"] = (weights.T*backtest_60).sum(axis=1)\n",
    "df_is_na_60 = backtest_60.iloc[:,:-1]!=0\n",
    "backtest_60[\"sum_of_weights\"] =(weights.T*df_is_na_60).sum(axis = 1)\n",
    "backtest_60[\"result_stocks\"] = backtest_60[\"weighted_sum\"]/backtest_60[\"sum_of_weights\"]\n",
    "index_swap_60 = vol_swap(N,strike_index,data_index)\n",
    "backtest_60 =pd.merge(backtest_60,index_swap_60.prices.iloc[N:,:],left_index=True,right_index=True) \n",
    "backtest_60[\"result\"] = backtest_60[\"result_stocks\"] -  backtest_60.iloc[:,-1]"
   ]
  },
  {
   "cell_type": "markdown",
   "metadata": {},
   "source": [
    "# Compute Hit Ratios, means,..."
   ]
  },
  {
   "cell_type": "code",
   "execution_count": 362,
   "metadata": {},
   "outputs": [],
   "source": [
    "def compute_dataframes_ratio(backtest,start,end):\n",
    "    backtest_compute = backtest.drop([\"weighted_sum\",\"sum_of_weights\",\"result_stocks\",\"result\"], axis = 1).iloc[backtest.index.get_loc(start, method='nearest'):backtest.index.get_loc(end, method='nearest')+1,:]\n",
    "    backtest_compute = backtest_compute.sub(backtest_compute.iloc[:,-1],axis=0).iloc[:,:-1]\n",
    "    results = pd.DataFrame(columns = backtest_compute.columns)\n",
    "    results.loc[\"Mean\"] = backtest_compute.mean()\n",
    "    results.loc[\"Min\"] = backtest_compute.min()\n",
    "    results.loc[\"Max\"] = backtest_compute.max()\n",
    "    results.loc[\"Last\"] = backtest_compute.iloc[-1,:]\n",
    "    results.loc[\"Hit Ratio\"] = (backtest_compute>0).sum()/len(backtest.index)\n",
    "    results.loc[\"Hit Ratio\"]=((results.loc['Hit Ratio']).apply('{:.00%}'.format))\n",
    "    return results"
   ]
  },
  {
   "cell_type": "markdown",
   "metadata": {},
   "source": [
    "#### Compute data for range period and no range"
   ]
  },
  {
   "cell_type": "code",
   "execution_count": 363,
   "metadata": {},
   "outputs": [],
   "source": [
    "start = df_control.iloc[2,7]\n",
    "end = df_control.iloc[3,7]\n",
    "results_range = compute_dataframes_ratio(backtest,start,end)\n",
    "results_no_range = compute_dataframes_ratio(backtest,start_date,backtest.index[-1])"
   ]
  },
  {
   "cell_type": "markdown",
   "metadata": {},
   "source": [
    "#### Add 60 days data to the two dataframes"
   ]
  },
  {
   "cell_type": "code",
   "execution_count": 364,
   "metadata": {},
   "outputs": [],
   "source": [
    "results_range.loc[\"Last (60 days)\"] = backtest_60.iloc[backtest_60.index.get_loc(end, method='nearest'),:]\n",
    "results_no_range.loc[\"Last (60 days)\"]  = backtest_60.iloc[-1,:]"
   ]
  },
  {
   "cell_type": "markdown",
   "metadata": {},
   "source": [
    "# Export to excel and create a chart"
   ]
  },
  {
   "cell_type": "code",
   "execution_count": 365,
   "metadata": {},
   "outputs": [],
   "source": [
    "excel_file = 'Backtest - Results.xlsx'\n",
    "sheet_name = 'Prices'\n",
    "writer = pd.ExcelWriter(excel_file, engine='xlsxwriter',datetime_format='dd/mm/yyyy')\n",
    "backtest.to_excel(writer, sheet_name=sheet_name)\n",
    "backtest_60.to_excel(writer,sheet_name=\"Prices 60\")\n",
    "\n",
    "results_no_range.to_excel(writer,sheet_name=\"Mono\")\n",
    "results_range.to_excel(writer,sheet_name=\"Mono\",startrow = 15)\n",
    "\n",
    "\n",
    "workbook = writer.book\n",
    "fmt_bleu= workbook.add_format({\"bg_color\": \"#DAEEF3\"})\n",
    "worksheet= workbook.add_worksheet(\"Graph\")\n",
    "worksheet.set_column('A:ZZ', None, fmt_bleu)\n",
    "\n",
    "percentage = workbook.add_format({'num_format': '0.00%'})\n",
    "\n",
    "\n",
    "\n",
    "chart1 = workbook.add_chart({'type': 'line'})\n",
    "\n",
    "chart1.add_series({\n",
    "    'categories': ['Prices', 1, 0, len(backtest.index), 0],\n",
    "    'values':     ['Prices', 1, len(backtest.columns), len(backtest.index), len(backtest.columns)],\n",
    "})\n",
    "\n",
    "chart1.set_plotarea({\n",
    "    'fill':   {'color': '#E9F1F5'},\n",
    "    'line':   {'color' : \"#46AAC5\"}\n",
    "})\n",
    "\n",
    "\n",
    "chart1.set_title ({'name': 'Backtest'})\n",
    "chart1.set_x_axis({\n",
    "    'name': 'Dates',\n",
    "    'visible': True,\n",
    "    'line': {'width': 1.25, 'dash_type': 'dash'}, \n",
    "    \"date_axis\": True, \n",
    "    'min':backtest.index[0] ,\n",
    "    'max': backtest.index[len(backtest.index)-1],})\n",
    "\n",
    "chart1.set_y_axis({'name': 'P&L in Vol points'})\n",
    "chart1.set_legend({'none': True})\n",
    "worksheet.insert_chart('D2', chart1, {'x_offset': 25, 'y_offset': 10,'x_scale': 2, 'y_scale': 2})\n",
    "\n",
    "worksheet60= workbook.add_worksheet(\"Graph 60\")\n",
    "worksheet60.set_column('A:ZZ', None, fmt_bleu)\n",
    "chart2 = workbook.add_chart({'type': 'line'})\n",
    "\n",
    "\n",
    "chart2 = workbook.add_chart({'type': 'line'})\n",
    "\n",
    "chart2.add_series({\n",
    "    'categories': ['Prices 60', 1, 0, len(backtest_60.index), 0],\n",
    "    'values':     ['Prices 60', 1, len(backtest_60.columns), len(backtest_60.index), len(backtest_60.columns)],\n",
    "})\n",
    "\n",
    "chart2.set_plotarea({\n",
    "    'fill':   {'color': '#E9F1F5'},\n",
    "    'line':   {'color' : \"#46AAC5\"}\n",
    "})\n",
    "\n",
    "\n",
    "chart2.set_title ({'name': 'Carry 3 Months'})\n",
    "chart2.set_x_axis({\n",
    "    'name': 'Dates',\n",
    "    'visible': True,\n",
    "    'line': {'width': 1.25, 'dash_type': 'dash'}, \n",
    "    \"date_axis\": True, \n",
    "    'min':backtest_60.index[0] ,\n",
    "    'max': backtest_60.index[len(backtest_60.index)-1],})\n",
    "\n",
    "chart2.set_y_axis({'name': 'P&L in Vol points'})\n",
    "chart2.set_legend({'none': True})\n",
    "worksheet60.insert_chart('D2', chart2, {'x_offset': 25, 'y_offset': 10,'x_scale': 2, 'y_scale': 2})\n",
    "\n",
    "\n",
    "worksheet.write(0,0,\"Min\")\n",
    "worksheet.write(1,0,\"Max\")\n",
    "worksheet.write(2,0,\"Mean\")\n",
    "worksheet.write(3,0,\"Std\")\n",
    "worksheet.write(0,1,backtest[\"result\"].min())\n",
    "worksheet.write(1,1,backtest[\"result\"].max())\n",
    "worksheet.write(2,1,backtest[\"result\"].mean())\n",
    "worksheet.write(3,1,backtest[\"result\"].std())\n",
    "\n",
    "\n",
    "worksheet60.write(0,0,\"Min\")\n",
    "worksheet60.write(1,0,\"Max\")\n",
    "worksheet60.write(2,0,\"Mean\")\n",
    "worksheet60.write(3,0,\"Std\")\n",
    "worksheet60.write(0,1,backtest_60[\"result\"].min())\n",
    "worksheet60.write(1,1,backtest_60[\"result\"].max())\n",
    "worksheet60.write(2,1,backtest_60[\"result\"].mean())\n",
    "worksheet60.write(3,1,backtest_60[\"result\"].std())\n",
    "\n",
    "writer.save()"
   ]
  }
 ],
 "metadata": {
  "kernelspec": {
   "display_name": "Python 3",
   "language": "python",
   "name": "python3"
  },
  "language_info": {
   "codemirror_mode": {
    "name": "ipython",
    "version": 3
   },
   "file_extension": ".py",
   "mimetype": "text/x-python",
   "name": "python",
   "nbconvert_exporter": "python",
   "pygments_lexer": "ipython3",
   "version": "3.6.4"
  }
 },
 "nbformat": 4,
 "nbformat_minor": 2
}
